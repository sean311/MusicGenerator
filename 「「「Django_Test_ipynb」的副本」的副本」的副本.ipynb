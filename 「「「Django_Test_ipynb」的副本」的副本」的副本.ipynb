{
  "cells": [
    {
      "cell_type": "markdown",
      "metadata": {
        "id": "view-in-github",
        "colab_type": "text"
      },
      "source": [
        "<a href=\"https://colab.research.google.com/github/sean311/MusicGenerator/blob/main/%E3%80%8C%E3%80%8C%E3%80%8CDjango_Test_ipynb%E3%80%8D%E7%9A%84%E5%89%AF%E6%9C%AC%E3%80%8D%E7%9A%84%E5%89%AF%E6%9C%AC%E3%80%8D%E7%9A%84%E5%89%AF%E6%9C%AC.ipynb\" target=\"_parent\"><img src=\"https://colab.research.google.com/assets/colab-badge.svg\" alt=\"Open In Colab\"/></a>"
      ]
    },
    {
      "cell_type": "code",
      "execution_count": 2,
      "metadata": {
        "colab": {
          "base_uri": "https://localhost:8080/"
        },
        "id": "U-PArLDE2ILN",
        "outputId": "5d011fc1-d2d2-42ac-f6fb-76e2c510978a"
      },
      "outputs": [
        {
          "output_type": "stream",
          "name": "stdout",
          "text": [
            "Looking in indexes: https://pypi.org/simple, https://us-python.pkg.dev/colab-wheels/public/simple/\n",
            "Collecting django\n",
            "  Downloading Django-3.2.15-py3-none-any.whl (7.9 MB)\n",
            "\u001b[K     |████████████████████████████████| 7.9 MB 5.1 MB/s \n",
            "\u001b[?25hRequirement already satisfied: pytz in /usr/local/lib/python3.7/dist-packages (from django) (2022.2.1)\n",
            "Requirement already satisfied: sqlparse>=0.2.2 in /usr/local/lib/python3.7/dist-packages (from django) (0.4.2)\n",
            "Collecting asgiref<4,>=3.3.2\n",
            "  Downloading asgiref-3.5.2-py3-none-any.whl (22 kB)\n",
            "Requirement already satisfied: typing-extensions in /usr/local/lib/python3.7/dist-packages (from asgiref<4,>=3.3.2->django) (4.1.1)\n",
            "Installing collected packages: asgiref, django\n",
            "Successfully installed asgiref-3.5.2 django-3.2.15\n"
          ]
        }
      ],
      "source": [
        "!pip install django"
      ]
    },
    {
      "cell_type": "code",
      "execution_count": 3,
      "metadata": {
        "colab": {
          "base_uri": "https://localhost:8080/"
        },
        "id": "X2qrfAPdUSws",
        "outputId": "6777ac2e-5de6-45fa-b71a-914a90e76d21"
      },
      "outputs": [
        {
          "output_type": "stream",
          "name": "stdout",
          "text": [
            "Cloning into 'MusicGenerator'...\n",
            "remote: Enumerating objects: 173, done.\u001b[K\n",
            "remote: Counting objects: 100% (173/173), done.\u001b[K\n",
            "remote: Compressing objects: 100% (119/119), done.\u001b[K\n",
            "remote: Total 173 (delta 53), reused 153 (delta 33), pack-reused 0\u001b[K\n",
            "Receiving objects: 100% (173/173), 17.94 MiB | 37.42 MiB/s, done.\n",
            "Resolving deltas: 100% (53/53), done.\n"
          ]
        }
      ],
      "source": [
        "!git clone https://github.com/jerry762/MusicGenerator.git"
      ]
    },
    {
      "cell_type": "code",
      "execution_count": 4,
      "metadata": {
        "colab": {
          "base_uri": "https://localhost:8080/"
        },
        "id": "NUEM7nsjOMta",
        "outputId": "9b3ccab4-a417-48c4-e553-b94a4c6cec89"
      },
      "outputs": [
        {
          "output_type": "stream",
          "name": "stdout",
          "text": [
            "/content/MusicGenerator/portfolio\n",
            "manage.py  \u001b[0m\u001b[01;34mportfolio\u001b[0m/  \u001b[01;34mstatic_test\u001b[0m/  \u001b[01;34mtemplates\u001b[0m/  \u001b[01;34mTestApp\u001b[0m/\n"
          ]
        }
      ],
      "source": [
        "%cd MusicGenerator/portfolio/\n",
        "%ls"
      ]
    },
    {
      "cell_type": "code",
      "execution_count": 5,
      "metadata": {
        "colab": {
          "base_uri": "https://localhost:8080/",
          "height": 34
        },
        "id": "9bz4ZpE55qdF",
        "outputId": "b5572d2e-3ef4-470e-91d6-438f97b11101"
      },
      "outputs": [
        {
          "output_type": "stream",
          "name": "stdout",
          "text": [
            "https://lpp04ycub4l-496ff2e9c6d22116-8000-colab.googleusercontent.com/\n"
          ]
        }
      ],
      "source": [
        "from google.colab.output import eval_js\n",
        "print(eval_js(\"google.colab.kernel.proxyPort(8000)\"))\n"
      ]
    },
    {
      "cell_type": "code",
      "execution_count": null,
      "metadata": {
        "colab": {
          "base_uri": "https://localhost:8080/"
        },
        "id": "3G_ItAIE5y_-",
        "outputId": "ce045fc7-8b65-4ddd-f570-8165e4eb8310"
      },
      "outputs": [
        {
          "output_type": "stream",
          "name": "stdout",
          "text": [
            "Watching for file changes with StatReloader\n",
            "Performing system checks...\n",
            "\n",
            "System check identified no issues (0 silenced).\n",
            "\u001b[31m\n",
            "You have 18 unapplied migration(s). Your project may not work properly until you apply the migrations for app(s): admin, auth, contenttypes, sessions.\u001b[0m\n",
            "\u001b[31mRun 'python manage.py migrate' to apply them.\u001b[0m\n",
            "October 01, 2022 - 11:58:55\n",
            "Django version 3.2.15, using settings 'portfolio.settings'\n",
            "Starting development server at http://127.0.0.1:8000/\n",
            "Quit the server with CONTROL-C.\n"
          ]
        }
      ],
      "source": [
        "!python manage.py runserver 8000  #debug = True, Run this block."
      ]
    },
    {
      "cell_type": "code",
      "execution_count": null,
      "metadata": {
        "id": "90mVSJUyfDP7",
        "colab": {
          "base_uri": "https://localhost:8080/"
        },
        "outputId": "f8e684ce-4151-4569-d091-2e764223133a"
      },
      "outputs": [
        {
          "output_type": "stream",
          "name": "stdout",
          "text": [
            "Watching for file changes with StatReloader\n",
            "Performing system checks...\n",
            "\n",
            "System check identified no issues (0 silenced).\n",
            "\u001b[31m\n",
            "You have 18 unapplied migration(s). Your project may not work properly until you apply the migrations for app(s): admin, auth, contenttypes, sessions.\u001b[0m\n",
            "\u001b[31mRun 'python manage.py migrate' to apply them.\u001b[0m\n",
            "October 01, 2022 - 11:52:49\n",
            "Django version 3.2.15, using settings 'portfolio.settings'\n",
            "Starting development server at http://127.0.0.1:8000/\n",
            "Quit the server with CONTROL-C.\n"
          ]
        }
      ],
      "source": [
        "!python manage.py runserver --insecure 8000 #debug = False, Run this block."
      ]
    },
    {
      "cell_type": "code",
      "execution_count": null,
      "metadata": {
        "id": "O-8EsolPPT_i",
        "colab": {
          "base_uri": "https://localhost:8080/"
        },
        "outputId": "6a10db8e-2105-4427-e9ad-98642fb0d0d1"
      },
      "outputs": [
        {
          "output_type": "stream",
          "name": "stdout",
          "text": [
            "\n",
            "150 static files copied to '/content/MusicGenerator/portfolio/static'.\n"
          ]
        }
      ],
      "source": [
        "!python manage.py collectstatic"
      ]
    },
    {
      "cell_type": "code",
      "execution_count": null,
      "metadata": {
        "id": "FLSjdFbc7oOB",
        "colab": {
          "base_uri": "https://localhost:8080/"
        },
        "outputId": "fbb540e2-23ca-4728-e99c-07093092174d"
      },
      "outputs": [
        {
          "output_type": "stream",
          "name": "stdout",
          "text": [
            "  adding: content/MusicGenerator/portfolio/ (stored 0%)\n",
            "  adding: content/MusicGenerator/portfolio/static/ (stored 0%)\n",
            "  adding: content/MusicGenerator/portfolio/static/css/ (stored 0%)\n",
            "  adding: content/MusicGenerator/portfolio/static/css/styles.css (deflated 87%)\n",
            "  adding: content/MusicGenerator/portfolio/static/music/ (stored 0%)\n",
            "  adding: content/MusicGenerator/portfolio/static/music/Bach_lstm.mid (deflated 75%)\n",
            "  adding: content/MusicGenerator/portfolio/static/music/output.mid (deflated 73%)\n",
            "  adding: content/MusicGenerator/portfolio/static/music/Schubert_transformer.mid (deflated 38%)\n",
            "  adding: content/MusicGenerator/portfolio/static/music/Germany_lstm.mid (deflated 77%)\n",
            "  adding: content/MusicGenerator/portfolio/static/music/China_lstm.mid (deflated 71%)\n",
            "  adding: content/MusicGenerator/portfolio/static/music/Canada_lstm.mid (deflated 80%)\n",
            "  adding: content/MusicGenerator/portfolio/static/music/Bach_transformer.mid (deflated 42%)\n",
            "  adding: content/MusicGenerator/portfolio/static/music/Germany_transformer.mid (deflated 49%)\n",
            "  adding: content/MusicGenerator/portfolio/static/music/China_transformer.mid (deflated 39%)\n",
            "  adding: content/MusicGenerator/portfolio/static/music/Canada_transformer.mid (deflated 47%)\n",
            "  adding: content/MusicGenerator/portfolio/static/music/Schubert_lstm.mid (deflated 68%)\n",
            "  adding: content/MusicGenerator/portfolio/static/music/Stephen_Foster_lstm.mid (deflated 74%)\n",
            "  adding: content/MusicGenerator/portfolio/static/music/accompaniment.mid (deflated 58%)\n",
            "  adding: content/MusicGenerator/portfolio/static/music/Stephen_Foster_transformer.mid (deflated 51%)\n",
            "  adding: content/MusicGenerator/portfolio/static/js/ (stored 0%)\n",
            "  adding: content/MusicGenerator/portfolio/static/js/scripts.js (deflated 60%)\n",
            "  adding: content/MusicGenerator/portfolio/static/admin/ (stored 0%)\n",
            "  adding: content/MusicGenerator/portfolio/static/admin/css/ (stored 0%)\n",
            "  adding: content/MusicGenerator/portfolio/static/admin/css/base.css (deflated 77%)\n",
            "  adding: content/MusicGenerator/portfolio/static/admin/css/widgets.css (deflated 80%)\n",
            "  adding: content/MusicGenerator/portfolio/static/admin/css/forms.css (deflated 76%)\n",
            "  adding: content/MusicGenerator/portfolio/static/admin/css/autocomplete.css (deflated 88%)\n",
            "  adding: content/MusicGenerator/portfolio/static/admin/css/fonts.css (deflated 69%)\n",
            "  adding: content/MusicGenerator/portfolio/static/admin/css/responsive_rtl.css (deflated 71%)\n",
            "  adding: content/MusicGenerator/portfolio/static/admin/css/rtl.css (deflated 71%)\n",
            "  adding: content/MusicGenerator/portfolio/static/admin/css/responsive.css (deflated 81%)\n",
            "  adding: content/MusicGenerator/portfolio/static/admin/css/vendor/ (stored 0%)\n",
            "  adding: content/MusicGenerator/portfolio/static/admin/css/vendor/select2/ (stored 0%)\n",
            "  adding: content/MusicGenerator/portfolio/static/admin/css/vendor/select2/LICENSE-SELECT2.md (deflated 41%)\n",
            "  adding: content/MusicGenerator/portfolio/static/admin/css/vendor/select2/select2.css (deflated 87%)\n",
            "  adding: content/MusicGenerator/portfolio/static/admin/css/vendor/select2/select2.min.css (deflated 87%)\n",
            "  adding: content/MusicGenerator/portfolio/static/admin/css/nav_sidebar.css (deflated 71%)\n",
            "  adding: content/MusicGenerator/portfolio/static/admin/css/changelists.css (deflated 77%)\n",
            "  adding: content/MusicGenerator/portfolio/static/admin/css/dashboard.css (deflated 40%)\n",
            "  adding: content/MusicGenerator/portfolio/static/admin/css/login.css (deflated 58%)\n",
            "  adding: content/MusicGenerator/portfolio/static/admin/js/ (stored 0%)\n",
            "  adding: content/MusicGenerator/portfolio/static/admin/js/cancel.js (deflated 53%)\n",
            "  adding: content/MusicGenerator/portfolio/static/admin/js/prepopulate_init.js (deflated 49%)\n",
            "  adding: content/MusicGenerator/portfolio/static/admin/js/nav_sidebar.js (deflated 71%)\n",
            "  adding: content/MusicGenerator/portfolio/static/admin/js/actions.js (deflated 76%)\n",
            "  adding: content/MusicGenerator/portfolio/static/admin/js/collapse.js (deflated 67%)\n",
            "  adding: content/MusicGenerator/portfolio/static/admin/js/prepopulate.js (deflated 66%)\n",
            "  adding: content/MusicGenerator/portfolio/static/admin/js/vendor/ (stored 0%)\n",
            "  adding: content/MusicGenerator/portfolio/static/admin/js/vendor/select2/ (stored 0%)\n",
            "  adding: content/MusicGenerator/portfolio/static/admin/js/vendor/select2/i18n/ (stored 0%)\n",
            "  adding: content/MusicGenerator/portfolio/static/admin/js/vendor/select2/i18n/pt-BR.js (deflated 47%)\n",
            "  adding: content/MusicGenerator/portfolio/static/admin/js/vendor/select2/i18n/fi.js (deflated 49%)\n",
            "  adding: content/MusicGenerator/portfolio/static/admin/js/vendor/select2/i18n/sr.js (deflated 46%)\n",
            "  adding: content/MusicGenerator/portfolio/static/admin/js/vendor/select2/i18n/fr.js (deflated 50%)\n",
            "  adding: content/MusicGenerator/portfolio/static/admin/js/vendor/select2/i18n/km.js (deflated 52%)\n",
            "  adding: content/MusicGenerator/portfolio/static/admin/js/vendor/select2/i18n/lv.js (deflated 46%)\n",
            "  adding: content/MusicGenerator/portfolio/static/admin/js/vendor/select2/i18n/th.js (deflated 54%)\n",
            "  adding: content/MusicGenerator/portfolio/static/admin/js/vendor/select2/i18n/en.js (deflated 49%)\n",
            "  adding: content/MusicGenerator/portfolio/static/admin/js/vendor/select2/i18n/hsb.js (deflated 47%)\n",
            "  adding: content/MusicGenerator/portfolio/static/admin/js/vendor/select2/i18n/pt.js (deflated 49%)\n",
            "  adding: content/MusicGenerator/portfolio/static/admin/js/vendor/select2/i18n/bg.js (deflated 46%)\n",
            "  adding: content/MusicGenerator/portfolio/static/admin/js/vendor/select2/i18n/hu.js (deflated 46%)\n",
            "  adding: content/MusicGenerator/portfolio/static/admin/js/vendor/select2/i18n/ne.js (deflated 58%)\n",
            "  adding: content/MusicGenerator/portfolio/static/admin/js/vendor/select2/i18n/sv.js (deflated 48%)\n",
            "  adding: content/MusicGenerator/portfolio/static/admin/js/vendor/select2/i18n/ja.js (deflated 43%)\n",
            "  adding: content/MusicGenerator/portfolio/static/admin/js/vendor/select2/i18n/da.js (deflated 49%)\n",
            "  adding: content/MusicGenerator/portfolio/static/admin/js/vendor/select2/i18n/ms.js (deflated 48%)\n",
            "  adding: content/MusicGenerator/portfolio/static/admin/js/vendor/select2/i18n/sr-Cyrl.js (deflated 47%)\n",
            "  adding: content/MusicGenerator/portfolio/static/admin/js/vendor/select2/i18n/hr.js (deflated 46%)\n",
            "  adding: content/MusicGenerator/portfolio/static/admin/js/vendor/select2/i18n/az.js (deflated 45%)\n",
            "  adding: content/MusicGenerator/portfolio/static/admin/js/vendor/select2/i18n/uk.js (deflated 47%)\n",
            "  adding: content/MusicGenerator/portfolio/static/admin/js/vendor/select2/i18n/ar.js (deflated 47%)\n",
            "  adding: content/MusicGenerator/portfolio/static/admin/js/vendor/select2/i18n/ka.js (deflated 57%)\n",
            "  adding: content/MusicGenerator/portfolio/static/admin/js/vendor/select2/i18n/tk.js (deflated 46%)\n",
            "  adding: content/MusicGenerator/portfolio/static/admin/js/vendor/select2/i18n/cs.js (deflated 53%)\n",
            "  adding: content/MusicGenerator/portfolio/static/admin/js/vendor/select2/i18n/nb.js (deflated 49%)\n",
            "  adding: content/MusicGenerator/portfolio/static/admin/js/vendor/select2/i18n/bs.js (deflated 48%)\n",
            "  adding: content/MusicGenerator/portfolio/static/admin/js/vendor/select2/i18n/zh-CN.js (deflated 41%)\n",
            "  adding: content/MusicGenerator/portfolio/static/admin/js/vendor/select2/i18n/de.js (deflated 48%)\n",
            "  adding: content/MusicGenerator/portfolio/static/admin/js/vendor/select2/i18n/it.js (deflated 48%)\n",
            "  adding: content/MusicGenerator/portfolio/static/admin/js/vendor/select2/i18n/dsb.js (deflated 48%)\n",
            "  adding: content/MusicGenerator/portfolio/static/admin/js/vendor/select2/i18n/is.js (deflated 45%)\n",
            "  adding: content/MusicGenerator/portfolio/static/admin/js/vendor/select2/i18n/tr.js (deflated 48%)\n",
            "  adding: content/MusicGenerator/portfolio/static/admin/js/vendor/select2/i18n/ru.js (deflated 48%)\n",
            "  adding: content/MusicGenerator/portfolio/static/admin/js/vendor/select2/i18n/sl.js (deflated 49%)\n",
            "  adding: content/MusicGenerator/portfolio/static/admin/js/vendor/select2/i18n/et.js (deflated 48%)\n",
            "  adding: content/MusicGenerator/portfolio/static/admin/js/vendor/select2/i18n/vi.js (deflated 42%)\n",
            "  adding: content/MusicGenerator/portfolio/static/admin/js/vendor/select2/i18n/nl.js (deflated 50%)\n",
            "  adding: content/MusicGenerator/portfolio/static/admin/js/vendor/select2/i18n/ps.js (deflated 46%)\n",
            "  adding: content/MusicGenerator/portfolio/static/admin/js/vendor/select2/i18n/el.js (deflated 47%)\n",
            "  adding: content/MusicGenerator/portfolio/static/admin/js/vendor/select2/i18n/mk.js (deflated 48%)\n",
            "  adding: content/MusicGenerator/portfolio/static/admin/js/vendor/select2/i18n/he.js (deflated 49%)\n",
            "  adding: content/MusicGenerator/portfolio/static/admin/js/vendor/select2/i18n/hy.js (deflated 50%)\n",
            "  adding: content/MusicGenerator/portfolio/static/admin/js/vendor/select2/i18n/hi.js (deflated 53%)\n",
            "  adding: content/MusicGenerator/portfolio/static/admin/js/vendor/select2/i18n/zh-TW.js (deflated 39%)\n",
            "  adding: content/MusicGenerator/portfolio/static/admin/js/vendor/select2/i18n/ro.js (deflated 47%)\n",
            "  adding: content/MusicGenerator/portfolio/static/admin/js/vendor/select2/i18n/ko.js (deflated 43%)\n",
            "  adding: content/MusicGenerator/portfolio/static/admin/js/vendor/select2/i18n/bn.js (deflated 59%)\n",
            "  adding: content/MusicGenerator/portfolio/static/admin/js/vendor/select2/i18n/eu.js (deflated 50%)\n",
            "  adding: content/MusicGenerator/portfolio/static/admin/js/vendor/select2/i18n/sk.js (deflated 54%)\n",
            "  adding: content/MusicGenerator/portfolio/static/admin/js/vendor/select2/i18n/es.js (deflated 51%)\n",
            "  adding: content/MusicGenerator/portfolio/static/admin/js/vendor/select2/i18n/af.js (deflated 49%)\n",
            "  adding: content/MusicGenerator/portfolio/static/admin/js/vendor/select2/i18n/lt.js (deflated 47%)\n",
            "  adding: content/MusicGenerator/portfolio/static/admin/js/vendor/select2/i18n/id.js (deflated 48%)\n",
            "  adding: content/MusicGenerator/portfolio/static/admin/js/vendor/select2/i18n/pl.js (deflated 47%)\n",
            "  adding: content/MusicGenerator/portfolio/static/admin/js/vendor/select2/i18n/ca.js (deflated 50%)\n",
            "  adding: content/MusicGenerator/portfolio/static/admin/js/vendor/select2/i18n/sq.js (deflated 48%)\n",
            "  adding: content/MusicGenerator/portfolio/static/admin/js/vendor/select2/i18n/fa.js (deflated 49%)\n",
            "  adding: content/MusicGenerator/portfolio/static/admin/js/vendor/select2/i18n/gl.js (deflated 52%)\n",
            "  adding: content/MusicGenerator/portfolio/static/admin/js/vendor/select2/LICENSE.md (deflated 41%)\n",
            "  adding: content/MusicGenerator/portfolio/static/admin/js/vendor/select2/select2.full.js (deflated 78%)\n",
            "  adding: content/MusicGenerator/portfolio/static/admin/js/vendor/select2/select2.full.min.js (deflated 72%)\n",
            "  adding: content/MusicGenerator/portfolio/static/admin/js/vendor/xregexp/ (stored 0%)\n",
            "  adding: content/MusicGenerator/portfolio/static/admin/js/vendor/xregexp/xregexp.min.js (deflated 70%)\n",
            "  adding: content/MusicGenerator/portfolio/static/admin/js/vendor/xregexp/xregexp.js (deflated 73%)\n",
            "  adding: content/MusicGenerator/portfolio/static/admin/js/vendor/xregexp/LICENSE.txt (deflated 40%)\n",
            "  adding: content/MusicGenerator/portfolio/static/admin/js/vendor/jquery/ (stored 0%)\n",
            "  adding: content/MusicGenerator/portfolio/static/admin/js/vendor/jquery/jquery.min.js (deflated 66%)\n",
            "  adding: content/MusicGenerator/portfolio/static/admin/js/vendor/jquery/LICENSE.txt (deflated 42%)\n",
            "  adding: content/MusicGenerator/portfolio/static/admin/js/vendor/jquery/jquery.js (deflated 71%)\n",
            "  adding: content/MusicGenerator/portfolio/static/admin/js/core.js (deflated 74%)\n",
            "  adding: content/MusicGenerator/portfolio/static/admin/js/urlify.js (deflated 67%)\n",
            "  adding: content/MusicGenerator/portfolio/static/admin/js/autocomplete.js (deflated 65%)\n",
            "  adding: content/MusicGenerator/portfolio/static/admin/js/jquery.init.js (deflated 37%)\n",
            "  adding: content/MusicGenerator/portfolio/static/admin/js/popup_response.js (deflated 54%)\n",
            "  adding: content/MusicGenerator/portfolio/static/admin/js/SelectBox.js (deflated 78%)\n",
            "  adding: content/MusicGenerator/portfolio/static/admin/js/admin/ (stored 0%)\n",
            "  adding: content/MusicGenerator/portfolio/static/admin/js/admin/RelatedObjectLookups.js (deflated 74%)\n",
            "  adding: content/MusicGenerator/portfolio/static/admin/js/admin/DateTimeShortcuts.js (deflated 81%)\n",
            "  adding: content/MusicGenerator/portfolio/static/admin/js/inlines.js (deflated 76%)\n",
            "  adding: content/MusicGenerator/portfolio/static/admin/js/change_form.js (deflated 50%)\n",
            "  adding: content/MusicGenerator/portfolio/static/admin/js/calendar.js (deflated 74%)\n",
            "  adding: content/MusicGenerator/portfolio/static/admin/js/SelectFilter2.js (deflated 79%)\n",
            "  adding: content/MusicGenerator/portfolio/static/admin/img/ (stored 0%)\n",
            "  adding: content/MusicGenerator/portfolio/static/admin/img/icon-deletelink.svg (deflated 48%)\n",
            "  adding: content/MusicGenerator/portfolio/static/admin/img/README.txt (deflated 39%)\n",
            "  adding: content/MusicGenerator/portfolio/static/admin/img/icon-addlink.svg (deflated 43%)\n",
            "  adding: content/MusicGenerator/portfolio/static/admin/img/icon-unknown.svg (deflated 45%)\n",
            "  adding: content/MusicGenerator/portfolio/static/admin/img/icon-changelink.svg (deflated 34%)\n",
            "  adding: content/MusicGenerator/portfolio/static/admin/img/search.svg (deflated 46%)\n",
            "  adding: content/MusicGenerator/portfolio/static/admin/img/tooltag-add.svg (deflated 44%)\n",
            "  adding: content/MusicGenerator/portfolio/static/admin/img/gis/ (stored 0%)\n",
            "  adding: content/MusicGenerator/portfolio/static/admin/img/gis/move_vertex_on.svg (deflated 60%)\n",
            "  adding: content/MusicGenerator/portfolio/static/admin/img/gis/move_vertex_off.svg (deflated 60%)\n",
            "  adding: content/MusicGenerator/portfolio/static/admin/img/icon-no.svg (deflated 50%)\n",
            "  adding: content/MusicGenerator/portfolio/static/admin/img/LICENSE (deflated 41%)\n",
            "  adding: content/MusicGenerator/portfolio/static/admin/img/icon-alert.svg (deflated 38%)\n",
            "  adding: content/MusicGenerator/portfolio/static/admin/img/icon-yes.svg (deflated 43%)\n",
            "  adding: content/MusicGenerator/portfolio/static/admin/img/icon-clock.svg (deflated 50%)\n",
            "  adding: content/MusicGenerator/portfolio/static/admin/img/calendar-icons.svg (deflated 66%)\n",
            "  adding: content/MusicGenerator/portfolio/static/admin/img/sorting-icons.svg (deflated 68%)\n",
            "  adding: content/MusicGenerator/portfolio/static/admin/img/tooltag-arrowright.svg (deflated 37%)\n",
            "  adding: content/MusicGenerator/portfolio/static/admin/img/icon-viewlink.svg (deflated 44%)\n",
            "  adding: content/MusicGenerator/portfolio/static/admin/img/selector-icons.svg (deflated 77%)\n",
            "  adding: content/MusicGenerator/portfolio/static/admin/img/icon-unknown-alt.svg (deflated 45%)\n",
            "  adding: content/MusicGenerator/portfolio/static/admin/img/inline-delete.svg (deflated 51%)\n",
            "  adding: content/MusicGenerator/portfolio/static/admin/img/icon-calendar.svg (deflated 61%)\n",
            "  adding: content/MusicGenerator/portfolio/static/admin/fonts/ (stored 0%)\n",
            "  adding: content/MusicGenerator/portfolio/static/admin/fonts/README.txt (deflated 24%)\n",
            "  adding: content/MusicGenerator/portfolio/static/admin/fonts/Roboto-Bold-webfont.woff (deflated 0%)\n",
            "  adding: content/MusicGenerator/portfolio/static/admin/fonts/Roboto-Regular-webfont.woff (deflated 0%)\n",
            "  adding: content/MusicGenerator/portfolio/static/admin/fonts/LICENSE.txt (deflated 66%)\n",
            "  adding: content/MusicGenerator/portfolio/static/admin/fonts/Roboto-Light-webfont.woff (deflated 0%)\n",
            "  adding: content/MusicGenerator/portfolio/static/images/ (stored 0%)\n",
            "  adding: content/MusicGenerator/portfolio/static/images/head_music.jpg (deflated 1%)\n",
            "  adding: content/MusicGenerator/portfolio/static/images/dataset_header.jpg (deflated 0%)\n",
            "  adding: content/MusicGenerator/portfolio/static/images/kern_web.png (deflated 4%)\n",
            "  adding: content/MusicGenerator/portfolio/static/images/dataset.jpg (deflated 0%)\n",
            "  adding: content/MusicGenerator/portfolio/static/images/music.ico (deflated 79%)\n",
            "  adding: content/MusicGenerator/portfolio/static/images/piano_header.jpg (deflated 0%)\n",
            "  adding: content/MusicGenerator/portfolio/db.sqlite3 (stored 0%)\n",
            "  adding: content/MusicGenerator/portfolio/TestApp/ (stored 0%)\n",
            "  adding: content/MusicGenerator/portfolio/TestApp/models.py (deflated 5%)\n",
            "  adding: content/MusicGenerator/portfolio/TestApp/models/ (stored 0%)\n",
            "  adding: content/MusicGenerator/portfolio/TestApp/models/model.h5 (deflated 8%)\n",
            "  adding: content/MusicGenerator/portfolio/TestApp/lstm_music/ (stored 0%)\n",
            "  adding: content/MusicGenerator/portfolio/TestApp/lstm_music/output.mid (deflated 62%)\n",
            "  adding: content/MusicGenerator/portfolio/TestApp/views.py (deflated 66%)\n",
            "  adding: content/MusicGenerator/portfolio/TestApp/apps.py (deflated 23%)\n",
            "  adding: content/MusicGenerator/portfolio/TestApp/migrations/ (stored 0%)\n",
            "  adding: content/MusicGenerator/portfolio/TestApp/migrations/__pycache__/ (stored 0%)\n",
            "  adding: content/MusicGenerator/portfolio/TestApp/migrations/__pycache__/__init__.cpython-37.pyc (deflated 21%)\n",
            "  adding: content/MusicGenerator/portfolio/TestApp/migrations/__init__.py (stored 0%)\n",
            "  adding: content/MusicGenerator/portfolio/TestApp/mapping/ (stored 0%)\n",
            "  adding: content/MusicGenerator/portfolio/TestApp/mapping/mapping.json (deflated 66%)\n",
            "  adding: content/MusicGenerator/portfolio/TestApp/__pycache__/ (stored 0%)\n",
            "  adding: content/MusicGenerator/portfolio/TestApp/__pycache__/admin.cpython-37.pyc (deflated 17%)\n",
            "  adding: content/MusicGenerator/portfolio/TestApp/__pycache__/apps.cpython-37.pyc (deflated 31%)\n",
            "  adding: content/MusicGenerator/portfolio/TestApp/__pycache__/models.cpython-37.pyc (deflated 17%)\n",
            "  adding: content/MusicGenerator/portfolio/TestApp/__pycache__/__init__.cpython-37.pyc (deflated 21%)\n",
            "  adding: content/MusicGenerator/portfolio/TestApp/__pycache__/views.cpython-37.pyc (deflated 49%)\n",
            "  adding: content/MusicGenerator/portfolio/TestApp/admin.py (deflated 2%)\n",
            "  adding: content/MusicGenerator/portfolio/TestApp/tests.py (deflated 3%)\n",
            "  adding: content/MusicGenerator/portfolio/TestApp/__init__.py (stored 0%)\n",
            "  adding: content/MusicGenerator/portfolio/portfolio/ (stored 0%)\n",
            "  adding: content/MusicGenerator/portfolio/portfolio/urls.py (deflated 60%)\n",
            "  adding: content/MusicGenerator/portfolio/portfolio/wsgi.py (deflated 33%)\n",
            "  adding: content/MusicGenerator/portfolio/portfolio/settings.py (deflated 62%)\n",
            "  adding: content/MusicGenerator/portfolio/portfolio/__pycache__/ (stored 0%)\n",
            "  adding: content/MusicGenerator/portfolio/portfolio/__pycache__/wsgi.cpython-37.pyc (deflated 26%)\n",
            "  adding: content/MusicGenerator/portfolio/portfolio/__pycache__/urls.cpython-37.pyc (deflated 46%)\n",
            "  adding: content/MusicGenerator/portfolio/portfolio/__pycache__/__init__.cpython-37.pyc (deflated 27%)\n",
            "  adding: content/MusicGenerator/portfolio/portfolio/__pycache__/settings.cpython-37.pyc (deflated 47%)\n",
            "  adding: content/MusicGenerator/portfolio/portfolio/asgi.py (deflated 33%)\n",
            "  adding: content/MusicGenerator/portfolio/portfolio/__init__.py (stored 0%)\n",
            "  adding: content/MusicGenerator/portfolio/templates/ (stored 0%)\n",
            "  adding: content/MusicGenerator/portfolio/templates/dataset.html (deflated 77%)\n",
            "  adding: content/MusicGenerator/portfolio/templates/index.html (deflated 65%)\n",
            "  adding: content/MusicGenerator/portfolio/templates/generation.html (deflated 86%)\n",
            "  adding: content/MusicGenerator/portfolio/manage.py (deflated 43%)\n",
            "  adding: content/MusicGenerator/portfolio/static_test/ (stored 0%)\n",
            "  adding: content/MusicGenerator/portfolio/static_test/css/ (stored 0%)\n",
            "  adding: content/MusicGenerator/portfolio/static_test/css/styles.css (deflated 87%)\n",
            "  adding: content/MusicGenerator/portfolio/static_test/music/ (stored 0%)\n",
            "  adding: content/MusicGenerator/portfolio/static_test/music/Bach_lstm.mid (deflated 75%)\n",
            "  adding: content/MusicGenerator/portfolio/static_test/music/output.mid (deflated 73%)\n",
            "  adding: content/MusicGenerator/portfolio/static_test/music/Schubert_transformer.mid (deflated 38%)\n",
            "  adding: content/MusicGenerator/portfolio/static_test/music/Germany_lstm.mid (deflated 77%)\n",
            "  adding: content/MusicGenerator/portfolio/static_test/music/China_lstm.mid (deflated 71%)\n",
            "  adding: content/MusicGenerator/portfolio/static_test/music/Canada_lstm.mid (deflated 80%)\n",
            "  adding: content/MusicGenerator/portfolio/static_test/music/Bach_transformer.mid (deflated 42%)\n",
            "  adding: content/MusicGenerator/portfolio/static_test/music/Germany_transformer.mid (deflated 49%)\n",
            "  adding: content/MusicGenerator/portfolio/static_test/music/China_transformer.mid (deflated 39%)\n",
            "  adding: content/MusicGenerator/portfolio/static_test/music/Canada_transformer.mid (deflated 47%)\n",
            "  adding: content/MusicGenerator/portfolio/static_test/music/Schubert_lstm.mid (deflated 68%)\n",
            "  adding: content/MusicGenerator/portfolio/static_test/music/Stephen_Foster_lstm.mid (deflated 74%)\n",
            "  adding: content/MusicGenerator/portfolio/static_test/music/accompaniment.mid (deflated 58%)\n",
            "  adding: content/MusicGenerator/portfolio/static_test/music/Stephen_Foster_transformer.mid (deflated 51%)\n",
            "  adding: content/MusicGenerator/portfolio/static_test/js/ (stored 0%)\n",
            "  adding: content/MusicGenerator/portfolio/static_test/js/scripts.js (deflated 60%)\n",
            "  adding: content/MusicGenerator/portfolio/static_test/images/ (stored 0%)\n",
            "  adding: content/MusicGenerator/portfolio/static_test/images/head_music.jpg (deflated 1%)\n",
            "  adding: content/MusicGenerator/portfolio/static_test/images/dataset_header.jpg (deflated 0%)\n",
            "  adding: content/MusicGenerator/portfolio/static_test/images/kern_web.png (deflated 4%)\n",
            "  adding: content/MusicGenerator/portfolio/static_test/images/dataset.jpg (deflated 0%)\n",
            "  adding: content/MusicGenerator/portfolio/static_test/images/music.ico (deflated 79%)\n",
            "  adding: content/MusicGenerator/portfolio/static_test/images/piano_header.jpg (deflated 0%)\n"
          ]
        }
      ],
      "source": [
        "!zip -r /content/project.zip /content/MusicGenerator/portfolio"
      ]
    },
    {
      "cell_type": "code",
      "execution_count": null,
      "metadata": {
        "id": "QPdhYNqY7q_T",
        "colab": {
          "base_uri": "https://localhost:8080/",
          "height": 34
        },
        "outputId": "cd317e39-fd5c-4bf4-8b09-828a3b37dbbf"
      },
      "outputs": [
        {
          "output_type": "display_data",
          "data": {
            "text/plain": [
              "<IPython.core.display.Javascript object>"
            ],
            "application/javascript": [
              "\n",
              "    async function download(id, filename, size) {\n",
              "      if (!google.colab.kernel.accessAllowed) {\n",
              "        return;\n",
              "      }\n",
              "      const div = document.createElement('div');\n",
              "      const label = document.createElement('label');\n",
              "      label.textContent = `Downloading \"${filename}\": `;\n",
              "      div.appendChild(label);\n",
              "      const progress = document.createElement('progress');\n",
              "      progress.max = size;\n",
              "      div.appendChild(progress);\n",
              "      document.body.appendChild(div);\n",
              "\n",
              "      const buffers = [];\n",
              "      let downloaded = 0;\n",
              "\n",
              "      const channel = await google.colab.kernel.comms.open(id);\n",
              "      // Send a message to notify the kernel that we're ready.\n",
              "      channel.send({})\n",
              "\n",
              "      for await (const message of channel.messages) {\n",
              "        // Send a message to notify the kernel that we're ready.\n",
              "        channel.send({})\n",
              "        if (message.buffers) {\n",
              "          for (const buffer of message.buffers) {\n",
              "            buffers.push(buffer);\n",
              "            downloaded += buffer.byteLength;\n",
              "            progress.value = downloaded;\n",
              "          }\n",
              "        }\n",
              "      }\n",
              "      const blob = new Blob(buffers, {type: 'application/binary'});\n",
              "      const a = document.createElement('a');\n",
              "      a.href = window.URL.createObjectURL(blob);\n",
              "      a.download = filename;\n",
              "      div.appendChild(a);\n",
              "      a.click();\n",
              "      div.remove();\n",
              "    }\n",
              "  "
            ]
          },
          "metadata": {}
        },
        {
          "output_type": "display_data",
          "data": {
            "text/plain": [
              "<IPython.core.display.Javascript object>"
            ],
            "application/javascript": [
              "download(\"download_08e0b8b1-32df-4fa9-a88c-88da3eb1156d\", \"project.zip\", 27448079)"
            ]
          },
          "metadata": {}
        }
      ],
      "source": [
        "from google.colab import files\n",
        "files.download(\"/content/project.zip\")"
      ]
    }
  ],
  "metadata": {
    "colab": {
      "collapsed_sections": [],
      "provenance": [],
      "include_colab_link": true
    },
    "kernelspec": {
      "display_name": "Python 3",
      "name": "python3"
    },
    "language_info": {
      "name": "python"
    }
  },
  "nbformat": 4,
  "nbformat_minor": 0
}